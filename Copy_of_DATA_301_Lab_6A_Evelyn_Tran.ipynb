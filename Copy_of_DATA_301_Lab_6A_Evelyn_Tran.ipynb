{
  "nbformat": 4,
  "nbformat_minor": 0,
  "metadata": {
    "kernelspec": {
      "display_name": "Python 3",
      "language": "python",
      "name": "python3"
    },
    "language_info": {
      "codemirror_mode": {
        "name": "ipython",
        "version": 3
      },
      "file_extension": ".py",
      "mimetype": "text/x-python",
      "name": "python",
      "nbconvert_exporter": "python",
      "pygments_lexer": "ipython3",
      "version": "3.6.8"
    },
    "colab": {
      "name": "Copy of DATA 301 Lab 6A - Evelyn Tran ",
      "provenance": [],
      "collapsed_sections": [],
      "include_colab_link": true
    }
  },
  "cells": [
    {
      "cell_type": "markdown",
      "metadata": {
        "id": "view-in-github",
        "colab_type": "text"
      },
      "source": [
        "<a href=\"https://colab.research.google.com/github/evelyntr/Cal-Poly-301-lab-6-phase-1/blob/main/Copy_of_DATA_301_Lab_6A_Evelyn_Tran.ipynb\" target=\"_parent\"><img src=\"https://colab.research.google.com/assets/colab-badge.svg\" alt=\"Open In Colab\"/></a>"
      ]
    },
    {
      "cell_type": "markdown",
      "metadata": {
        "id": "GJlfgcMDeZ4q"
      },
      "source": [
        "# CityBikes Rest API\n",
        "\n",
        "This section asks you to fetch JSON data from the [CityBikes REST API](https://api.citybik.es/v2/) to answer some questions about bike share programs.\n",
        "\n",
        "Please be mindful not to send requests to the server more often than necessary. In particular, make sure you separate code that requests data from the server into a separate cell so that you do not have to repeatedly request data from the server. You will lose points if your requests are not separated into their own cell."
      ]
    },
    {
      "cell_type": "code",
      "source": [
        "# Fetch data from a URL\n",
        "import requests\n",
        "import pandas as pd\n",
        "from pandas.io.json import json_normalize\n",
        "\n",
        "response = requests.get(\"http://api.citybik.es/v2/networks/\")\n",
        "data = response.json()\n"
      ],
      "metadata": {
        "id": "yKlNXGkdMKZm"
      },
      "execution_count": null,
      "outputs": []
    },
    {
      "cell_type": "markdown",
      "metadata": {
        "id": "BRgPl6o9eZ4u"
      },
      "source": [
        "# Question 1\n",
        "\n",
        "Find all cities with bike share programs in the United States (country code \"US\"), along with their network ID (for example, \"ford-gobike\"). How many cities in the U.S. have bike share programs (at least that are in this API)?"
      ]
    },
    {
      "cell_type": "code",
      "source": [
        "rows = []\n",
        "for program in data['networks']:\n",
        "  row = {}\n",
        "  row[\"country\"] = program['location']['country']\n",
        "  row[\"city\"] = program['location']['city']\n",
        "  row['networkID'] = program['id']\n",
        "  row['latitude'] = program['location']['latitude']\n",
        "  row['longitude'] = program['location']['longitude']\n",
        "  rows.append(row)\n",
        "df = pd.DataFrame(rows)\n",
        "len(df[df['country'] == 'US']['city'].unique())"
      ],
      "metadata": {
        "colab": {
          "base_uri": "https://localhost:8080/"
        },
        "id": "XFy_FphBNZeK",
        "outputId": "17f44359-019d-4ff7-a539-18a7792d3ffc"
      },
      "execution_count": null,
      "outputs": [
        {
          "output_type": "execute_result",
          "data": {
            "text/plain": [
              "64"
            ]
          },
          "metadata": {},
          "execution_count": 12
        }
      ]
    },
    {
      "cell_type": "markdown",
      "source": [
        "There are 64 citites in the US that have bike share programs. "
      ],
      "metadata": {
        "id": "Dnumln1-WkSD"
      }
    },
    {
      "cell_type": "markdown",
      "metadata": {
        "id": "23oXCLzyeZ40"
      },
      "source": [
        "# Question 2\n",
        "\n",
        "Construct a `DataFrame` containing data about all bike stations in all networks in the United States. Save this `DataFrame` to disk using `.to_csv()`. (You will need it in Part B of this lab.)\n",
        "\n",
        "Use this `DataFrame` to determine the total number of bicycles in bike share programs across the United States? You may assume that the number of bikes at a station is the number of empty spaces, plus the number of available bikes."
      ]
    },
    {
      "cell_type": "code",
      "source": [
        "from google.colab import drive\n",
        "\n",
        "drive.mount('/content/drive')\n",
        "path = '/content/drive/My Drive/citybikes_us.csv'\n",
        "\n",
        "\n",
        "\n",
        "df_us_bikes = df[df['country'] == 'US']\n",
        "with open(path, 'w', encoding = 'utf-8-sig') as f:\n",
        "  df_us_bikes.to_csv(f)\n",
        "df_us_bikes\n",
        "num_bikes = 0"
      ],
      "metadata": {
        "id": "0wQks7ijXFTd",
        "colab": {
          "base_uri": "https://localhost:8080/"
        },
        "outputId": "78b72963-d8c8-4439-9e9b-337533dca718"
      },
      "execution_count": 27,
      "outputs": [
        {
          "output_type": "stream",
          "name": "stdout",
          "text": [
            "Mounted at /content/drive\n"
          ]
        }
      ]
    },
    {
      "cell_type": "code",
      "source": [
        "\n",
        "for i in range(0, len(df_us_bikes)):\n",
        "  id = df_us_bikes.iloc[i][\"networkID\"]\n",
        "  resp = requests.get(\"http://api.citybik.es/v2/networks/%s?filter=stations\" % id)\n",
        "  data = resp.json()\n",
        "  for j in data[\"network\"][\"stations\"]:\n",
        "    total_bikes = 0\n",
        "    if j[\"empty_slots\"] != None:\n",
        "      total_bikes += j[\"empty_slots\"] \n",
        "    if j[\"free_bikes\"] != None:\n",
        "      total_bikes += j[\"free_bikes\"]\n",
        "    num_bikes += total_bikes\n",
        " \n",
        "print(num_bikes)\n"
      ],
      "metadata": {
        "colab": {
          "base_uri": "https://localhost:8080/"
        },
        "id": "lwCCvBs7zpxF",
        "outputId": "bd175a8a-a40f-4a24-a121-a28dfe16b394"
      },
      "execution_count": null,
      "outputs": [
        {
          "output_type": "stream",
          "name": "stdout",
          "text": [
            "131043\n"
          ]
        }
      ]
    },
    {
      "cell_type": "markdown",
      "source": [
        "There are 741,933 bikes in the bike share program across the US."
      ],
      "metadata": {
        "id": "iYyfFQJekHPZ"
      }
    },
    {
      "cell_type": "markdown",
      "metadata": {
        "id": "mPJ5B3qceZ45"
      },
      "source": [
        "# Question 3\n",
        "\n",
        "You have just finished touring Coit Tower in San Francisco, which is located at latitude 37.802747 and longitude -122.405861. Using your `DataFrame` from Question 2, find the nearest bike station with an available bike, based on taxicab distance (a.k.a. Manhattan distance).\n",
        "\n",
        "_Hint:_ You can check your answer using Google Maps!"
      ]
    },
    {
      "cell_type": "code",
      "source": [
        "df_us_bikes[\"Distance\"] = ''\n",
        "\n",
        "x = 37.802747\n",
        "y = -122.405861\n",
        "\n",
        "for i in range(len(df_us_bikes)):\n",
        "  x1 = df_us_bikes.iloc[i][\"latitude\"]\n",
        "  y1 = df_us_bikes.iloc[i][\"longitude\"]\n",
        "  \n",
        "  df_us_bikes.iloc[i, df_us_bikes.columns.get_loc('Distance')] = abs(x-x1) + abs(y - y1)\n",
        "\n",
        "df_us_bikes['Distance'] = pd.to_numeric(df_us_bikes['Distance'])\n",
        "min_distance_index = df_us_bikes[\"Distance\"].idxmin()\n",
        "id = df_us_bikes.loc[min_distance_index][\"networkID\"]"
      ],
      "metadata": {
        "colab": {
          "base_uri": "https://localhost:8080/"
        },
        "id": "Fw1YyzdQkQ6j",
        "outputId": "a46e7579-ef0e-4bd8-b74b-b6b55b684c3f"
      },
      "execution_count": null,
      "outputs": [
        {
          "output_type": "stream",
          "name": "stderr",
          "text": [
            "/usr/local/lib/python3.7/dist-packages/ipykernel_launcher.py:1: SettingWithCopyWarning: \n",
            "A value is trying to be set on a copy of a slice from a DataFrame.\n",
            "Try using .loc[row_indexer,col_indexer] = value instead\n",
            "\n",
            "See the caveats in the documentation: https://pandas.pydata.org/pandas-docs/stable/user_guide/indexing.html#returning-a-view-versus-a-copy\n",
            "  \"\"\"Entry point for launching an IPython kernel.\n",
            "/usr/local/lib/python3.7/dist-packages/pandas/core/indexing.py:1817: SettingWithCopyWarning: \n",
            "A value is trying to be set on a copy of a slice from a DataFrame.\n",
            "Try using .loc[row_indexer,col_indexer] = value instead\n",
            "\n",
            "See the caveats in the documentation: https://pandas.pydata.org/pandas-docs/stable/user_guide/indexing.html#returning-a-view-versus-a-copy\n",
            "  self._setitem_single_column(loc, value, pi)\n",
            "/usr/local/lib/python3.7/dist-packages/ipykernel_launcher.py:12: SettingWithCopyWarning: \n",
            "A value is trying to be set on a copy of a slice from a DataFrame.\n",
            "Try using .loc[row_indexer,col_indexer] = value instead\n",
            "\n",
            "See the caveats in the documentation: https://pandas.pydata.org/pandas-docs/stable/user_guide/indexing.html#returning-a-view-versus-a-copy\n",
            "  if sys.path[0] == '':\n"
          ]
        }
      ]
    },
    {
      "cell_type": "code",
      "source": [
        "\n",
        "resp = requests.get(\"http://api.citybik.es/v2/networks/%s?filter=stations\" % id)\n",
        "data = resp.json()\n",
        "\n",
        "for station in data[\"network\"][\"stations\"]:\n",
        "  if (station[\"free_bikes\"] != None and station[\"free_bikes\"] >= 1):\n",
        "    print(station[\"name\"]) \n",
        "    break"
      ],
      "metadata": {
        "colab": {
          "base_uri": "https://localhost:8080/"
        },
        "id": "6yzfR25r-bsC",
        "outputId": "50dc36ff-1138-4115-e84f-e41c37894cee"
      },
      "execution_count": null,
      "outputs": [
        {
          "output_type": "stream",
          "name": "stdout",
          "text": [
            "Harmon St at Adeline St\n"
          ]
        }
      ]
    },
    {
      "cell_type": "markdown",
      "source": [
        "Harmon St at Adeline St is the nearest bike station with available bikes from Coit Tower, SF."
      ],
      "metadata": {
        "id": "IHC5uEdrAGyT"
      }
    },
    {
      "cell_type": "markdown",
      "metadata": {
        "id": "IKBO_9EyYK0v"
      },
      "source": [
        "## Submission Instructions\n",
        "\n",
        "- Copy this notebook to your own Drive, if you have not already.\n",
        "- Restart this notebook and run the cells from beginning to end. \n",
        "  - Go to Runtime > Restart and Run All.\n",
        "- Rename this notebook by clicking on \"DATA 301 Lab 6A - YOUR NAMES HERE\" at the very top of this page. Replace \"YOUR NAMES HERE\" with the first and last names of you (and your partners, for Phase 2).\n",
        "- Get the link to your notebook:\n",
        "  - Click on \"Share\" at the top-right. \n",
        "  - Change the settings to \"Anyone with the link can view\". \n",
        "  - Copy the sharing link into Canvas."
      ]
    }
  ]
}