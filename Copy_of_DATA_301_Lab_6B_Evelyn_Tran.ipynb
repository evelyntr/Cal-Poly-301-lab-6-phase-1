{
  "nbformat": 4,
  "nbformat_minor": 0,
  "metadata": {
    "colab": {
      "name": "Copy of DATA 301 Lab 6B - Evelyn Tran",
      "provenance": [],
      "collapsed_sections": [],
      "include_colab_link": true
    },
    "kernelspec": {
      "name": "python3",
      "display_name": "Python 3"
    }
  },
  "cells": [
    {
      "cell_type": "markdown",
      "metadata": {
        "id": "view-in-github",
        "colab_type": "text"
      },
      "source": [
        "<a href=\"https://colab.research.google.com/github/evelyntr/Cal-Poly-301-lab-6-phase-1/blob/main/Copy_of_DATA_301_Lab_6B_Evelyn_Tran.ipynb\" target=\"_parent\"><img src=\"https://colab.research.google.com/assets/colab-badge.svg\" alt=\"Open In Colab\"/></a>"
      ]
    },
    {
      "cell_type": "markdown",
      "metadata": {
        "id": "Wv2CguEzescV"
      },
      "source": [
        "# Bing Maps API\n",
        "\n",
        "In this part of the lab, you will join the CityBikes data from the previous part of the lab with additional data that you will query from the Bing Maps API.\n",
        "\n",
        "First, you will need to register for a Bing Maps Key. Follow the instructions [here](https://docs.microsoft.com/en-us/bingmaps/getting-started/bing-maps-dev-center-help/getting-a-bing-maps-key). You should be able to sign in with your Cal Poly account. When you get to Step 4, select:\n",
        "\n",
        "- Key type: Basic\n",
        "- Application type: Dev/Test\n",
        "\n",
        "You will be able to make 125000 free requests with the resulting API key. This should be more than enough to complete this assignment.\n",
        "\n",
        "We will be working with the [REST services in the Bing Maps API](https://docs.microsoft.com/en-us/bingmaps/rest-services/). Click on the link for a complete documentation of the features."
      ]
    },
    {
      "cell_type": "code",
      "source": [
        "import pandas as pd\n",
        "from google.colab import drive\n",
        "\n",
        "drive.mount('/content/drive')\n",
        "path = '/content/drive/My Drive/citybikes_us.csv'\n",
        "\n",
        "df = pd.read_csv(path)"
      ],
      "metadata": {
        "colab": {
          "base_uri": "https://localhost:8080/"
        },
        "id": "sE4RwwfpCVcb",
        "outputId": "1520052a-66a3-490c-e1a9-6cd1116bda31"
      },
      "execution_count": 375,
      "outputs": [
        {
          "output_type": "stream",
          "name": "stdout",
          "text": [
            "Drive already mounted at /content/drive; to attempt to forcibly remount, call drive.mount(\"/content/drive\", force_remount=True).\n"
          ]
        }
      ]
    },
    {
      "cell_type": "markdown",
      "metadata": {
        "id": "vhodHHWtu8Xb"
      },
      "source": [
        "## Question 1\n",
        "\n",
        "Read in the `DataFrame` of bike stations in the United States from Part A of this lab. Restrict to the stations in the \"Bay Wheels\" network (with network ID \"ford-gobike\").\n",
        "\n",
        "How many of these stations are in the city/county of San Francisco? \n",
        "\n",
        "(_Hint:_ Use the [Locations API](https://docs.microsoft.com/en-us/bingmaps/rest-services/locations/) to get the address associated with each latitude and longitude coordinate.)"
      ]
    },
    {
      "cell_type": "code",
      "source": [
        "import requests \n",
        "id = \"ford-gobike\"\n",
        "resp = requests.get(\"http://api.citybik.es/v2/networks/%s?filter=stations\" % id)\n",
        "data = resp.json()\n"
      ],
      "metadata": {
        "id": "XX4dT0SuA5y3"
      },
      "execution_count": 376,
      "outputs": []
    },
    {
      "cell_type": "code",
      "source": [
        "destinations = []\n",
        "station_names = []"
      ],
      "metadata": {
        "id": "2bjq2yQ6Uatm"
      },
      "execution_count": 377,
      "outputs": []
    },
    {
      "cell_type": "code",
      "source": [
        "BingMapsKey = \"Av8fZK0SkX9GOtUInfDQ1soe6l6Ou5jlN1P_m4TYKNkp6y5fAvyOJ0w946ZyJlyd\"\n",
        "num_stations = 0\n",
        "for station in data[\"network\"][\"stations\"]:\n",
        "  x = str(station[\"latitude\"]) \n",
        "  y = str(station[\"longitude\"])\n",
        "  point = x + \",\" + y\n",
        "\n",
        "  resp = requests.get(\"http://dev.virtualearth.net/REST/v1/Locations/%s?o=json&key=%s\" % (point, BingMapsKey))\n",
        "  data = resp.json()\n",
        "  res = data[\"resourceSets\"]\n",
        "  if res != None:\n",
        "    if (len(res) != 0):\n",
        "      addr = data[\"resourceSets\"][0]['resources'][0]['address']['formattedAddress']\n",
        "      if (\"San Francisco\" in addr):\n",
        "        num_stations += 1\n",
        "        entry = {}\n",
        "        entry['latitude'] = data[\"resourceSets\"][0]['resources'][0]['point']['coordinates'][0]\n",
        "        entry['longitude'] = data[\"resourceSets\"][0]['resources'][0]['point']['coordinates'][1]\n",
        "        destinations.append(entry)\n",
        "        station_names.append(station['name'])\n",
        "\n",
        "print(\"The number of stations in SF is:\", num_stations)\n",
        "\n",
        "#   print(resp.json())\n",
        "# x = str(data[\"network\"][\"stations\"][0][\"latitude\"])\n",
        "# y = str(data[\"network\"][\"stations\"][0][\"longitude\"])\n",
        "# x\n",
        "# y\n",
        "# point = x + ','+ y\n",
        "# point\n",
        "# resp = requests.get(\"http://dev.virtualearth.net/REST/v1/Locations/%s?o=json&key=%s\" % (point, BingMapsKey))\n",
        "# data = resp.json()\n",
        "\n",
        "# addr = data[\"resourceSets\"][0]['resources'][0]\n",
        "# addr['point']['coordinates']"
      ],
      "metadata": {
        "colab": {
          "base_uri": "https://localhost:8080/"
        },
        "id": "5NYszQJbGX83",
        "outputId": "9af5f866-5721-4115-b48a-8e5eeb508839"
      },
      "execution_count": 378,
      "outputs": [
        {
          "output_type": "stream",
          "name": "stdout",
          "text": [
            "The number of stations in SF is: 99\n"
          ]
        }
      ]
    },
    {
      "cell_type": "markdown",
      "metadata": {
        "id": "c3N28ddcIpHt"
      },
      "source": [
        "## Question 2\n",
        "\n",
        "You want to go to Coit Tower. To save money, you decide to ride a \"Bay Wheels\" bike to the closest station and hail a cab from there to Coit Tower. What station should you bike to so that you are as close to Coit Tower as possible (as measured by driving distance)? Does your answer agree with the one that you obtained in Part A of this lab? If not, why does it differ?\n",
        "\n",
        "_Hints:_ \n",
        "- You should restrict your attention to bike stations that are in San Francisco, which you determined in Question 1. \n",
        "- Use the [Routes API](https://docs.microsoft.com/en-us/bingmaps/rest-services/routes/calculate-a-distance-matrix) to calculate a distance matrix between Coit Tower and the bike stations. \n",
        "- You can do this with just one call to the API. Because there are too many stations, it is impossible to specify all the locations in the URL. Instead, you should make a POST request (`requests.post`), passing in the parameters as a JSON object through the `json=` parameter of `requests.post`. Read the API documentation carefully to learn how to use the POST API."
      ]
    },
    {
      "cell_type": "code",
      "source": [
        "import requests\n",
        "\n",
        "url = \"https://dev.virtualearth.net/REST/v1/Routes/DistanceMatrix?key=Av8fZK0SkX9GOtUInfDQ1soe6l6Ou5jlN1P_m4TYKNkp6y5fAvyOJ0w946ZyJlyd\"\n",
        "\n",
        "origins = [{\"latitude\": 37.802747,\"longitude\": -122.405861}]\n",
        "\n",
        "destinations\n",
        "\n",
        "header = {\n",
        "    'Content-Type': \"application/json\"\n",
        "}\n",
        "\n",
        "body = {\n",
        "    \"origins\":origins, \n",
        "    \"destinations\": destinations, \n",
        "    \"travelMode\": \"driving\"\n",
        "    }\n",
        "\n",
        "resp = requests.post(url, headers=header, json=body)\n",
        "data = resp.json()\n",
        "\n",
        "dist_matrix = data[\"resourceSets\"][0]['resources'][0]['results']\n",
        "sorted_matrix = sorted(dist_matrix, key=lambda x: x[\"travelDistance\"])\n",
        "sorted_matrix\n",
        "index_min_dist = sorted_matrix[0]['destinationIndex']\n",
        "destinations[index_min_dist]\n",
        "station_names[index_min_dist]\n"
      ],
      "metadata": {
        "colab": {
          "base_uri": "https://localhost:8080/",
          "height": 37
        },
        "id": "85i44T1JTMNb",
        "outputId": "343537be-da63-4262-f085-b7eb7b17d0c8"
      },
      "execution_count": 379,
      "outputs": [
        {
          "output_type": "execute_result",
          "data": {
            "application/vnd.google.colaboratory.intrinsic+json": {
              "type": "string"
            },
            "text/plain": [
              "'North Point St at Powell St'"
            ]
          },
          "metadata": {},
          "execution_count": 379
        }
      ]
    },
    {
      "cell_type": "markdown",
      "metadata": {
        "id": "akBCRrv8VeRT"
      },
      "source": [
        "## Submission Instructions\n",
        "\n",
        "- Copy this notebook to your own Drive, if you have not already.\n",
        "- Restart this notebook and run the cells from beginning to end. \n",
        "  - Go to Runtime > Restart and Run All.\n",
        "- Rename this notebook by clicking on \"DATA 301 Lab 6B - YOUR NAMES HERE\" at the very top of this page. Replace \"YOUR NAMES HERE\" with the first and last names of you (and your partners, for Phase 2).\n",
        "- Get the link to your notebook:\n",
        "  - Click on \"Share\" at the top-right. \n",
        "  - Change the settings to \"Anyone with the link can view\". \n",
        "  - Copy the sharing link into Canvas."
      ]
    }
  ]
}